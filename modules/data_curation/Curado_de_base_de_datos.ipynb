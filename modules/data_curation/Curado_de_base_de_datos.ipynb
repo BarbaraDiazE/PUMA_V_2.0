{
 "cells": [
  {
   "cell_type": "code",
   "execution_count": 5,
   "metadata": {},
   "outputs": [],
   "source": [
    "from rdkit import Chem\n",
    "from rdkit.Chem import AllChem\n",
    "from rdkit.Chem.rdmolops import GetFormalCharge\n",
    "from rdkit.Chem import rdMolDescriptors\n",
    "from rdkit.Chem.Draw import IPythonConsole\n",
    "from molvs.standardize import Standardizer\n",
    "from molvs.charge import Uncharger\n",
    "from molvs.charge import Reionizer\n",
    "from molvs.fragment import LargestFragmentChooser\n",
    "from molvs.tautomer import TautomerCanonicalizer\n",
    "from rdkit.Chem.rdmolops import RemoveStereochemistry\n",
    "import pandas as pd"
   ]
  },
  {
   "cell_type": "code",
   "execution_count": 6,
   "metadata": {},
   "outputs": [],
   "source": [
    "STD = Standardizer()\n",
    "LFC = LargestFragmentChooser()\n",
    "UC = Uncharger()\n",
    "RI = Reionizer()\n",
    "TC = TautomerCanonicalizer()"
   ]
  },
  {
   "cell_type": "code",
   "execution_count": 7,
   "metadata": {},
   "outputs": [],
   "source": [
    "\n",
    "def MasterStandarization(smi):\n",
    "    try:\n",
    "        mol = Chem.MolFromSmiles(smi)\n",
    "        if mol == None:\n",
    "            # If rdkit could not parse the smiles, returns Error 1\n",
    "            return \"Error 1\"\n",
    "        else:            \n",
    "            mol = STD(mol)\n",
    "            mol = LFC(mol)\n",
    "            \n",
    "            allowed_elements = {\"H\", \"B\", \"C\", \"N\", \"O\", \"F\", \"Si\", \"P\", \"S\", \"Cl\", \"Se\", \"Br\", \"I\"}\n",
    "            actual_elements = set([atom.GetSymbol() for atom in mol.GetAtoms()])\n",
    "            if len(actual_elements-allowed_elements) == 0:\n",
    "                mol = UC(mol)\n",
    "                mol = RI(mol)\n",
    "                RemoveStereochemistry(mol)\n",
    "                mol = TC(mol)\n",
    "                return Chem.MolToSmiles(mol)\n",
    "            else:\n",
    "                # If molecule contains other than the allowed elements, returns \"Error 2\"\n",
    "                return \"Error 2\"\n",
    "    except:\n",
    "        return \"Algo mas\"   "
   ]
  },
  {
   "cell_type": "code",
   "execution_count": 10,
   "metadata": {},
   "outputs": [],
   "source": [
    "import pandas as pd\n",
    "#import pandas"
   ]
  },
  {
   "cell_type": "code",
   "execution_count": 28,
   "metadata": {},
   "outputs": [
    {
     "data": {
      "text/html": [
       "<div>\n",
       "<style scoped>\n",
       "    .dataframe tbody tr th:only-of-type {\n",
       "        vertical-align: middle;\n",
       "    }\n",
       "\n",
       "    .dataframe tbody tr th {\n",
       "        vertical-align: top;\n",
       "    }\n",
       "\n",
       "    .dataframe thead th {\n",
       "        text-align: right;\n",
       "    }\n",
       "</style>\n",
       "<table border=\"1\" class=\"dataframe\">\n",
       "  <thead>\n",
       "    <tr style=\"text-align: right;\">\n",
       "      <th></th>\n",
       "      <th>ID</th>\n",
       "      <th>SMILES</th>\n",
       "      <th>NEW_SMILES</th>\n",
       "      <th>AMW</th>\n",
       "    </tr>\n",
       "  </thead>\n",
       "  <tbody>\n",
       "    <tr>\n",
       "      <th>0</th>\n",
       "      <td>A1206</td>\n",
       "      <td>CCCCCCCCCC(=O)N[C@@H](Cc1c[nH]c2ccccc12)C(=O)N...</td>\n",
       "      <td>CCCCCCCCCC(=O)NC(Cc1c[nH]c2ccccc12)C(=O)NC(CC(...</td>\n",
       "      <td>1619.710366</td>\n",
       "    </tr>\n",
       "    <tr>\n",
       "      <th>1</th>\n",
       "      <td>A1402</td>\n",
       "      <td>Cl.Nc1ccn([C@H]2O[C@@H](CO)[C@H](O)C2(F)F)c(=O)n1</td>\n",
       "      <td>N=c1ccn(C2OC(CO)C(O)C2(F)F)c(=O)[nH]1</td>\n",
       "      <td>263.071762</td>\n",
       "    </tr>\n",
       "  </tbody>\n",
       "</table>\n",
       "</div>"
      ],
      "text/plain": [
       "      ID                                             SMILES  \\\n",
       "0  A1206  CCCCCCCCCC(=O)N[C@@H](Cc1c[nH]c2ccccc12)C(=O)N...   \n",
       "1  A1402  Cl.Nc1ccn([C@H]2O[C@@H](CO)[C@H](O)C2(F)F)c(=O)n1   \n",
       "\n",
       "                                          NEW_SMILES          AMW  \n",
       "0  CCCCCCCCCC(=O)NC(Cc1c[nH]c2ccccc12)C(=O)NC(CC(...  1619.710366  \n",
       "1              N=c1ccn(C2OC(CO)C(O)C2(F)F)c(=O)[nH]1   263.071762  "
      ]
     },
     "execution_count": 28,
     "metadata": {},
     "output_type": "execute_result"
    }
   ],
   "source": [
    "DB = pd.read_csv(\"APEXBT_DiscoveryProbe-Epigenetics-Compound_Library.csv\")\n",
    "DB.columns\n",
    "DB.head(2)"
   ]
  },
  {
   "cell_type": "code",
   "execution_count": 29,
   "metadata": {},
   "outputs": [
    {
     "data": {
      "text/plain": [
       "310"
      ]
     },
     "execution_count": 29,
     "metadata": {},
     "output_type": "execute_result"
    }
   ],
   "source": [
    "# Número de filas o número de compuestos\n",
    "len(DB)"
   ]
  },
  {
   "cell_type": "code",
   "execution_count": 30,
   "metadata": {},
   "outputs": [
    {
     "data": {
      "text/plain": [
       "Index(['ID', 'SMILES', 'NEW_SMILES', 'AMW'], dtype='object')"
      ]
     },
     "execution_count": 30,
     "metadata": {},
     "output_type": "execute_result"
    }
   ],
   "source": [
    "#Columnas de la base de datos\n",
    "DB.columns"
   ]
  },
  {
   "cell_type": "code",
   "execution_count": 34,
   "metadata": {
    "scrolled": false
   },
   "outputs": [
    {
     "data": {
      "text/html": [
       "<div>\n",
       "<style scoped>\n",
       "    .dataframe tbody tr th:only-of-type {\n",
       "        vertical-align: middle;\n",
       "    }\n",
       "\n",
       "    .dataframe tbody tr th {\n",
       "        vertical-align: top;\n",
       "    }\n",
       "\n",
       "    .dataframe thead th {\n",
       "        text-align: right;\n",
       "    }\n",
       "</style>\n",
       "<table border=\"1\" class=\"dataframe\">\n",
       "  <thead>\n",
       "    <tr style=\"text-align: right;\">\n",
       "      <th></th>\n",
       "      <th>ID</th>\n",
       "      <th>SMILES</th>\n",
       "    </tr>\n",
       "  </thead>\n",
       "  <tbody>\n",
       "    <tr>\n",
       "      <th>0</th>\n",
       "      <td>A1206</td>\n",
       "      <td>CCCCCCCCCC(=O)N[C@@H](Cc1c[nH]c2ccccc12)C(=O)N...</td>\n",
       "    </tr>\n",
       "  </tbody>\n",
       "</table>\n",
       "</div>"
      ],
      "text/plain": [
       "      ID                                             SMILES\n",
       "0  A1206  CCCCCCCCCC(=O)N[C@@H](Cc1c[nH]c2ccccc12)C(=O)N..."
      ]
     },
     "execution_count": 34,
     "metadata": {},
     "output_type": "execute_result"
    }
   ],
   "source": [
    "#Retener columnas de interés\n",
    "DB = DB[[\"ID\",\"SMILES\"]]\n",
    "# primera fila del dataframe (base de datos)\n",
    "DB.head(1)"
   ]
  },
  {
   "cell_type": "code",
   "execution_count": 38,
   "metadata": {},
   "outputs": [
    {
     "data": {
      "text/html": [
       "<div>\n",
       "<style scoped>\n",
       "    .dataframe tbody tr th:only-of-type {\n",
       "        vertical-align: middle;\n",
       "    }\n",
       "\n",
       "    .dataframe tbody tr th {\n",
       "        vertical-align: top;\n",
       "    }\n",
       "\n",
       "    .dataframe thead th {\n",
       "        text-align: right;\n",
       "    }\n",
       "</style>\n",
       "<table border=\"1\" class=\"dataframe\">\n",
       "  <thead>\n",
       "    <tr style=\"text-align: right;\">\n",
       "      <th></th>\n",
       "      <th>ID</th>\n",
       "      <th>SMILES</th>\n",
       "    </tr>\n",
       "  </thead>\n",
       "  <tbody>\n",
       "    <tr>\n",
       "      <th>0</th>\n",
       "      <td>A1206</td>\n",
       "      <td>CCCCCCCCCC(=O)N[C@@H](Cc1c[nH]c2ccccc12)C(=O)N...</td>\n",
       "    </tr>\n",
       "  </tbody>\n",
       "</table>\n",
       "</div>"
      ],
      "text/plain": [
       "      ID                                             SMILES\n",
       "0  A1206  CCCCCCCCCC(=O)N[C@@H](Cc1c[nH]c2ccccc12)C(=O)N..."
      ]
     },
     "execution_count": 38,
     "metadata": {},
     "output_type": "execute_result"
    }
   ],
   "source": [
    "#Cambiar nombre a las columnas\n",
    "DB.columns = ['ID', \"SMILES\"]\n",
    "# primera fila del dataframe (base de datos)\n",
    "DB.head(1)"
   ]
  },
  {
   "cell_type": "code",
   "execution_count": 39,
   "metadata": {},
   "outputs": [],
   "source": [
    "# Curado de la base de datos\n",
    "DB['NEW_SMILES'] = [MasterStandarization(i) for i in DB['SMILES']]"
   ]
  },
  {
   "cell_type": "code",
   "execution_count": 40,
   "metadata": {},
   "outputs": [
    {
     "data": {
      "text/plain": [
       "310"
      ]
     },
     "execution_count": 40,
     "metadata": {},
     "output_type": "execute_result"
    }
   ],
   "source": [
    "len(DB)"
   ]
  },
  {
   "cell_type": "code",
   "execution_count": 41,
   "metadata": {},
   "outputs": [
    {
     "data": {
      "text/html": [
       "<div>\n",
       "<style scoped>\n",
       "    .dataframe tbody tr th:only-of-type {\n",
       "        vertical-align: middle;\n",
       "    }\n",
       "\n",
       "    .dataframe tbody tr th {\n",
       "        vertical-align: top;\n",
       "    }\n",
       "\n",
       "    .dataframe thead th {\n",
       "        text-align: right;\n",
       "    }\n",
       "</style>\n",
       "<table border=\"1\" class=\"dataframe\">\n",
       "  <thead>\n",
       "    <tr style=\"text-align: right;\">\n",
       "      <th></th>\n",
       "      <th>ID</th>\n",
       "      <th>SMILES</th>\n",
       "      <th>NEW_SMILES</th>\n",
       "    </tr>\n",
       "  </thead>\n",
       "  <tbody>\n",
       "    <tr>\n",
       "      <th>308</th>\n",
       "      <td>N2060</td>\n",
       "      <td>CCCCCCCCCCCCCC(=O)O[C@H]1[C@H](C)[C@]2(O)[C@H]...</td>\n",
       "      <td>CCCCCCCCCCCCCC(=O)OC1C(C)C2(O)C(C=C(CO)CC3(O)C...</td>\n",
       "    </tr>\n",
       "    <tr>\n",
       "      <th>309</th>\n",
       "      <td>N2487</td>\n",
       "      <td>O=c1c(O)c(-c2ccc(O)c(O)c2)oc2cc(O)ccc12</td>\n",
       "      <td>O=c1c(O)c(-c2ccc(O)c(O)c2)oc2cc(O)ccc12</td>\n",
       "    </tr>\n",
       "  </tbody>\n",
       "</table>\n",
       "</div>"
      ],
      "text/plain": [
       "        ID                                             SMILES  \\\n",
       "308  N2060  CCCCCCCCCCCCCC(=O)O[C@H]1[C@H](C)[C@]2(O)[C@H]...   \n",
       "309  N2487            O=c1c(O)c(-c2ccc(O)c(O)c2)oc2cc(O)ccc12   \n",
       "\n",
       "                                            NEW_SMILES  \n",
       "308  CCCCCCCCCCCCCC(=O)OC1C(C)C2(O)C(C=C(CO)CC3(O)C...  \n",
       "309            O=c1c(O)c(-c2ccc(O)c(O)c2)oc2cc(O)ccc12  "
      ]
     },
     "execution_count": 41,
     "metadata": {},
     "output_type": "execute_result"
    }
   ],
   "source": [
    "DB.tail(2)"
   ]
  },
  {
   "cell_type": "code",
   "execution_count": 43,
   "metadata": {},
   "outputs": [],
   "source": [
    "DB = DB[DB[\"NEW_SMILES\"] != \"Error 1\"] #smiles (moléculas) que no se pudieron leer por RDkit\n",
    "DB = DB[DB[\"NEW_SMILES\"] != \"Error 2\"] #smiles (moléculas) que tienen diferentes átomos de los permitidos\n",
    "DB = DB[DB[\"NEW_SMILES\"] != \"Algo mas\"].reset_index(drop=True)"
   ]
  },
  {
   "cell_type": "code",
   "execution_count": 44,
   "metadata": {},
   "outputs": [
    {
     "data": {
      "text/plain": [
       "310"
      ]
     },
     "execution_count": 44,
     "metadata": {},
     "output_type": "execute_result"
    }
   ],
   "source": [
    "len(DB)"
   ]
  },
  {
   "cell_type": "code",
   "execution_count": 45,
   "metadata": {},
   "outputs": [
    {
     "data": {
      "text/plain": [
       "310"
      ]
     },
     "execution_count": 45,
     "metadata": {},
     "output_type": "execute_result"
    }
   ],
   "source": [
    "# ver el número de smiles nuevos y únicos\n",
    "len(DB['NEW_SMILES'].unique())"
   ]
  },
  {
   "cell_type": "code",
   "execution_count": 46,
   "metadata": {},
   "outputs": [
    {
     "data": {
      "text/plain": [
       "(310, 3)"
      ]
     },
     "execution_count": 46,
     "metadata": {},
     "output_type": "execute_result"
    }
   ],
   "source": [
    "#Retener SMILES únicos\n",
    "DB = DB.drop_duplicates(subset=[\"NEW_SMILES\"], keep =\"first\").reset_index(drop = True)\n",
    "DB.shape"
   ]
  },
  {
   "cell_type": "code",
   "execution_count": 47,
   "metadata": {},
   "outputs": [],
   "source": [
    "#Calcular peso molécular\n",
    "from rdkit.Chem.rdMolDescriptors import CalcExactMolWt\n",
    "#Definir función (AMW) para calcular peso molécular\n",
    "def AMW (Smiles):\n",
    "    mol = Chem.MolFromSmiles(Smiles)\n",
    "    AMW = rdMolDescriptors.CalcExactMolWt(mol)\n",
    "    return AMW"
   ]
  },
  {
   "cell_type": "code",
   "execution_count": 48,
   "metadata": {},
   "outputs": [
    {
     "data": {
      "text/html": [
       "<div>\n",
       "<style scoped>\n",
       "    .dataframe tbody tr th:only-of-type {\n",
       "        vertical-align: middle;\n",
       "    }\n",
       "\n",
       "    .dataframe tbody tr th {\n",
       "        vertical-align: top;\n",
       "    }\n",
       "\n",
       "    .dataframe thead th {\n",
       "        text-align: right;\n",
       "    }\n",
       "</style>\n",
       "<table border=\"1\" class=\"dataframe\">\n",
       "  <thead>\n",
       "    <tr style=\"text-align: right;\">\n",
       "      <th></th>\n",
       "      <th>ID</th>\n",
       "      <th>SMILES</th>\n",
       "      <th>NEW_SMILES</th>\n",
       "      <th>AMW</th>\n",
       "    </tr>\n",
       "  </thead>\n",
       "  <tbody>\n",
       "    <tr>\n",
       "      <th>0</th>\n",
       "      <td>A1206</td>\n",
       "      <td>CCCCCCCCCC(=O)N[C@@H](Cc1c[nH]c2ccccc12)C(=O)N...</td>\n",
       "      <td>CCCCCCCCCC(=O)NC(Cc1c[nH]c2ccccc12)C(=O)NC(CC(...</td>\n",
       "      <td>1619.710366</td>\n",
       "    </tr>\n",
       "    <tr>\n",
       "      <th>1</th>\n",
       "      <td>A1402</td>\n",
       "      <td>Cl.Nc1ccn([C@H]2O[C@@H](CO)[C@H](O)C2(F)F)c(=O)n1</td>\n",
       "      <td>N=c1ccn(C2OC(CO)C(O)C2(F)F)c(=O)[nH]1</td>\n",
       "      <td>263.071762</td>\n",
       "    </tr>\n",
       "  </tbody>\n",
       "</table>\n",
       "</div>"
      ],
      "text/plain": [
       "      ID                                             SMILES  \\\n",
       "0  A1206  CCCCCCCCCC(=O)N[C@@H](Cc1c[nH]c2ccccc12)C(=O)N...   \n",
       "1  A1402  Cl.Nc1ccn([C@H]2O[C@@H](CO)[C@H](O)C2(F)F)c(=O)n1   \n",
       "\n",
       "                                          NEW_SMILES          AMW  \n",
       "0  CCCCCCCCCC(=O)NC(Cc1c[nH]c2ccccc12)C(=O)NC(CC(...  1619.710366  \n",
       "1              N=c1ccn(C2OC(CO)C(O)C2(F)F)c(=O)[nH]1   263.071762  "
      ]
     },
     "execution_count": 48,
     "metadata": {},
     "output_type": "execute_result"
    }
   ],
   "source": [
    "# Peso molécular para cada molécula\n",
    "DB[\"AMW\"] = [AMW(x) for x in DB[\"NEW_SMILES\"]]\n",
    "DB.head(2)"
   ]
  },
  {
   "cell_type": "code",
   "execution_count": 22,
   "metadata": {},
   "outputs": [],
   "source": [
    "# Guardar Base de datos curada y con compuestos únicos\n",
    "DB.to_csv('APEXBT_DiscoveryProbe-Epigenetics-Compound_Library_CURADA.csv', sep = ',', index=False)"
   ]
  },
  {
   "cell_type": "code",
   "execution_count": null,
   "metadata": {},
   "outputs": [],
   "source": []
  }
 ],
 "metadata": {
  "kernelspec": {
   "display_name": "Python 3",
   "language": "python",
   "name": "python3"
  },
  "language_info": {
   "codemirror_mode": {
    "name": "ipython",
    "version": 3
   },
   "file_extension": ".py",
   "mimetype": "text/x-python",
   "name": "python",
   "nbconvert_exporter": "python",
   "pygments_lexer": "ipython3",
   "version": "3.7.10"
  }
 },
 "nbformat": 4,
 "nbformat_minor": 2
}

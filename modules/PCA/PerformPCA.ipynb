{
 "cells": [
  {
   "cell_type": "code",
   "execution_count": 1,
   "metadata": {},
   "outputs": [],
   "source": [
    "\"\"\"Jupyter notebook to perform PCA\"\"\"\n",
    "\n",
    "#from modules.PCA import *\n",
    "#from modules.PlotPCA import \n",
    "from PCA import *\n",
    "from PlotPCA import *"
   ]
  },
  {
   "cell_type": "markdown",
   "metadata": {},
   "source": [
    "PERFORM PCA"
   ]
  },
  {
   "cell_type": "code",
   "execution_count": 2,
   "metadata": {},
   "outputs": [
    {
     "name": "stdout",
     "output_type": "stream",
     "text": [
      "Index(['Unnamed: 0', 'ID', 'NEW_SMILES', 'HBA', 'HBD', 'RB', 'LogP', 'TPSA',\n",
      "       'MW', 'Library'],\n",
      "      dtype='object')\n",
      "['APEXBIO' 'Asinex' 'ChemDiv' 'Enamine' 'Life_Chemicals' 'MedChemExpress'\n",
      " 'OTAVA_DNMT1' 'OTAVA_DNMT3b' 'SelleckChem' 'Targetmol' 'Tocris']\n"
     ]
    }
   ],
   "source": [
    "a = ChemSpace_PCA(\"/Users/eurijuarez/Desktop/Alexis/Quimiotecas_enfocadas_descriptores/\", \"AllDB_descriptores.csv\")"
   ]
  },
  {
   "cell_type": "code",
   "execution_count": 3,
   "metadata": {},
   "outputs": [],
   "source": [
    "#run pca_descriptors with desired variables\n",
    "result, a, b = a.pca_descriptors([\n",
    "    'HBA', 'HBD', 'RB', 'LogP', 'TPSA', 'MW'\n",
    "    ])"
   ]
  },
  {
   "cell_type": "code",
   "execution_count": 4,
   "metadata": {},
   "outputs": [
    {
     "data": {
      "text/html": [
       "<div>\n",
       "<style scoped>\n",
       "    .dataframe tbody tr th:only-of-type {\n",
       "        vertical-align: middle;\n",
       "    }\n",
       "\n",
       "    .dataframe tbody tr th {\n",
       "        vertical-align: top;\n",
       "    }\n",
       "\n",
       "    .dataframe thead th {\n",
       "        text-align: right;\n",
       "    }\n",
       "</style>\n",
       "<table border=\"1\" class=\"dataframe\">\n",
       "  <thead>\n",
       "    <tr style=\"text-align: right;\">\n",
       "      <th></th>\n",
       "      <th>PC 1</th>\n",
       "      <th>PC 2</th>\n",
       "      <th>PC 3</th>\n",
       "      <th>ID</th>\n",
       "      <th>Library</th>\n",
       "      <th>NEW_SMILES</th>\n",
       "    </tr>\n",
       "  </thead>\n",
       "  <tbody>\n",
       "    <tr>\n",
       "      <th>0</th>\n",
       "      <td>25.164557</td>\n",
       "      <td>0.559606</td>\n",
       "      <td>10.678297</td>\n",
       "      <td>A1206</td>\n",
       "      <td>APEXBIO</td>\n",
       "      <td>CCCCCCCCCC(=O)NC(Cc1c[nH]c2ccccc12)C(=O)NC(CC(...</td>\n",
       "    </tr>\n",
       "    <tr>\n",
       "      <th>1</th>\n",
       "      <td>0.909198</td>\n",
       "      <td>-3.295350</td>\n",
       "      <td>0.304044</td>\n",
       "      <td>A1402</td>\n",
       "      <td>APEXBIO</td>\n",
       "      <td>N=c1ccn(C2OC(CO)C(O)C2(F)F)c(=O)[nH]1</td>\n",
       "    </tr>\n",
       "    <tr>\n",
       "      <th>2</th>\n",
       "      <td>0.255114</td>\n",
       "      <td>1.429263</td>\n",
       "      <td>-0.310698</td>\n",
       "      <td>A1670</td>\n",
       "      <td>APEXBIO</td>\n",
       "      <td>Cn1cc(C2=C(c3cn(C4CCN(Cc5ccccn5)CC4)c4ccccc34)...</td>\n",
       "    </tr>\n",
       "    <tr>\n",
       "      <th>3</th>\n",
       "      <td>5.510721</td>\n",
       "      <td>-2.397077</td>\n",
       "      <td>1.546372</td>\n",
       "      <td>A1832</td>\n",
       "      <td>APEXBIO</td>\n",
       "      <td>COc1cccc2c(O)c3c(O)c4c(c(O)c3c(O)c12)=C(OC1CC(...</td>\n",
       "    </tr>\n",
       "    <tr>\n",
       "      <th>4</th>\n",
       "      <td>-1.637994</td>\n",
       "      <td>-0.732808</td>\n",
       "      <td>-0.025805</td>\n",
       "      <td>A1877</td>\n",
       "      <td>APEXBIO</td>\n",
       "      <td>O=c1[nH]c(-c2ccc(C(F)(F)F)cc2)nc2c1CSCC2</td>\n",
       "    </tr>\n",
       "    <tr>\n",
       "      <th>...</th>\n",
       "      <td>...</td>\n",
       "      <td>...</td>\n",
       "      <td>...</td>\n",
       "      <td>...</td>\n",
       "      <td>...</td>\n",
       "      <td>...</td>\n",
       "    </tr>\n",
       "    <tr>\n",
       "      <th>53438</th>\n",
       "      <td>-0.174495</td>\n",
       "      <td>-1.319103</td>\n",
       "      <td>1.867818</td>\n",
       "      <td>Compound 97</td>\n",
       "      <td>Tocris</td>\n",
       "      <td>O=C(NCCc1ccccc1)c1cccc(C(O)=NO)c1</td>\n",
       "    </tr>\n",
       "    <tr>\n",
       "      <th>53439</th>\n",
       "      <td>1.087351</td>\n",
       "      <td>0.040487</td>\n",
       "      <td>0.207876</td>\n",
       "      <td>Compound 98</td>\n",
       "      <td>Tocris</td>\n",
       "      <td>COCc1ccc(-c2cc3c(=NC(C)c4ccn(C)n4)c(C(N)=O)c[n...</td>\n",
       "    </tr>\n",
       "    <tr>\n",
       "      <th>53440</th>\n",
       "      <td>-1.921753</td>\n",
       "      <td>-1.565103</td>\n",
       "      <td>-0.183029</td>\n",
       "      <td>Compound 99</td>\n",
       "      <td>Tocris</td>\n",
       "      <td>Cc1cc(C2CCCCC2)n(O)c(=O)c1</td>\n",
       "    </tr>\n",
       "    <tr>\n",
       "      <th>53441</th>\n",
       "      <td>1.088407</td>\n",
       "      <td>0.821518</td>\n",
       "      <td>0.729117</td>\n",
       "      <td>Compound 100</td>\n",
       "      <td>Tocris</td>\n",
       "      <td>CNC(=O)Nc1ccc2c(c1)CCC21OC(=O)N(CC(=O)N(Cc2ccc...</td>\n",
       "    </tr>\n",
       "    <tr>\n",
       "      <th>53442</th>\n",
       "      <td>1.614250</td>\n",
       "      <td>-1.199429</td>\n",
       "      <td>0.121591</td>\n",
       "      <td>Compound 101</td>\n",
       "      <td>Tocris</td>\n",
       "      <td>O=C(CNC(O)c1cc(=NC2COC2)[nH]cn1)CN1CCc2ccccc2C1</td>\n",
       "    </tr>\n",
       "  </tbody>\n",
       "</table>\n",
       "<p>53443 rows × 6 columns</p>\n",
       "</div>"
      ],
      "text/plain": [
       "            PC 1      PC 2       PC 3            ID  Library  \\\n",
       "0      25.164557  0.559606  10.678297         A1206  APEXBIO   \n",
       "1       0.909198 -3.295350   0.304044         A1402  APEXBIO   \n",
       "2       0.255114  1.429263  -0.310698         A1670  APEXBIO   \n",
       "3       5.510721 -2.397077   1.546372         A1832  APEXBIO   \n",
       "4      -1.637994 -0.732808  -0.025805         A1877  APEXBIO   \n",
       "...          ...       ...        ...           ...      ...   \n",
       "53438  -0.174495 -1.319103   1.867818   Compound 97   Tocris   \n",
       "53439   1.087351  0.040487   0.207876   Compound 98   Tocris   \n",
       "53440  -1.921753 -1.565103  -0.183029   Compound 99   Tocris   \n",
       "53441   1.088407  0.821518   0.729117  Compound 100   Tocris   \n",
       "53442   1.614250 -1.199429   0.121591  Compound 101   Tocris   \n",
       "\n",
       "                                              NEW_SMILES  \n",
       "0      CCCCCCCCCC(=O)NC(Cc1c[nH]c2ccccc12)C(=O)NC(CC(...  \n",
       "1                  N=c1ccn(C2OC(CO)C(O)C2(F)F)c(=O)[nH]1  \n",
       "2      Cn1cc(C2=C(c3cn(C4CCN(Cc5ccccn5)CC4)c4ccccc34)...  \n",
       "3      COc1cccc2c(O)c3c(O)c4c(c(O)c3c(O)c12)=C(OC1CC(...  \n",
       "4               O=c1[nH]c(-c2ccc(C(F)(F)F)cc2)nc2c1CSCC2  \n",
       "...                                                  ...  \n",
       "53438                  O=C(NCCc1ccccc1)c1cccc(C(O)=NO)c1  \n",
       "53439  COCc1ccc(-c2cc3c(=NC(C)c4ccn(C)n4)c(C(N)=O)c[n...  \n",
       "53440                         Cc1cc(C2CCCCC2)n(O)c(=O)c1  \n",
       "53441  CNC(=O)Nc1ccc2c(c1)CCC21OC(=O)N(CC(=O)N(Cc2ccc...  \n",
       "53442    O=C(CNC(O)c1cc(=NC2COC2)[nH]cn1)CN1CCc2ccccc2C1  \n",
       "\n",
       "[53443 rows x 6 columns]"
      ]
     },
     "execution_count": 4,
     "metadata": {},
     "output_type": "execute_result"
    }
   ],
   "source": [
    "result"
   ]
  },
  {
   "cell_type": "code",
   "execution_count": 5,
   "metadata": {},
   "outputs": [
    {
     "data": {
      "text/plain": [
       "41.87"
      ]
     },
     "execution_count": 5,
     "metadata": {},
     "output_type": "execute_result"
    }
   ],
   "source": [
    "a"
   ]
  },
  {
   "cell_type": "code",
   "execution_count": 6,
   "metadata": {},
   "outputs": [
    {
     "data": {
      "text/plain": [
       "30.5"
      ]
     },
     "execution_count": 6,
     "metadata": {},
     "output_type": "execute_result"
    }
   ],
   "source": [
    "b"
   ]
  },
  {
   "cell_type": "markdown",
   "metadata": {},
   "source": [
    "VISUALIZE CHEMICAL SPACE"
   ]
  },
  {
   "cell_type": "code",
   "execution_count": 7,
   "metadata": {},
   "outputs": [
    {
     "name": "stdout",
     "output_type": "stream",
     "text": [
      "41.87 30.5\n"
     ]
    }
   ],
   "source": [
    "Plot(result).plot_pca(\"ADME descriptors\", a, b)"
   ]
  },
  {
   "cell_type": "code",
   "execution_count": 8,
   "metadata": {},
   "outputs": [
    {
     "name": "stdout",
     "output_type": "stream",
     "text": [
      "41.87 30.5\n"
     ]
    }
   ],
   "source": [
    "Plot(result).plot_pca_apexbio_asinex(\"ADME descriptors\", a, b)"
   ]
  },
  {
   "cell_type": "code",
   "execution_count": null,
   "metadata": {},
   "outputs": [],
   "source": []
  }
 ],
 "metadata": {
  "kernelspec": {
   "display_name": "Python 3",
   "language": "python",
   "name": "python3"
  },
  "language_info": {
   "codemirror_mode": {
    "name": "ipython",
    "version": 3
   },
   "file_extension": ".py",
   "mimetype": "text/x-python",
   "name": "python",
   "nbconvert_exporter": "python",
   "pygments_lexer": "ipython3",
   "version": "3.7.10"
  }
 },
 "nbformat": 4,
 "nbformat_minor": 4
}
